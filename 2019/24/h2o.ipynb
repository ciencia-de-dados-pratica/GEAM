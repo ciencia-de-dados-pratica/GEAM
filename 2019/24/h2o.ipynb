{
 "cells": [
  {
   "cell_type": "markdown",
   "metadata": {},
   "source": [
    "[Pasta no Drive com o dataset e notebook para usar no colab](https://drive.google.com/open?id=1N18_SPZcLgox9JhQpTIWIeI_L0o4_WqJ)"
   ]
  },
  {
   "cell_type": "markdown",
   "metadata": {},
   "source": [
    "# Montando o Drive no colab e baixando o dataset"
   ]
  },
  {
   "cell_type": "code",
   "execution_count": 100,
   "metadata": {
    "colab": {
     "base_uri": "https://localhost:8080/",
     "height": 35
    },
    "colab_type": "code",
    "executionInfo": {
     "elapsed": 834,
     "status": "ok",
     "timestamp": 1569419300223,
     "user": {
      "displayName": "MATHEUS XAVIER SAMPAIO UFC",
      "photoUrl": "https://lh3.googleusercontent.com/a-/AAuE7mCD2zlNM6R_yR1-UVbNjeJFzXQYNJRQArbUYmY9=s64",
      "userId": "13506587245414265177"
     },
     "user_tz": 180
    },
    "id": "_v0owy4Fn3v8",
    "outputId": "3f897f22-0638-46cc-e5c7-f983f41f5fc7"
   },
   "outputs": [
    {
     "name": "stdout",
     "output_type": "stream",
     "text": [
      "Drive already mounted at /content/drive; to attempt to forcibly remount, call drive.mount(\"/content/drive\", force_remount=True).\n"
     ]
    }
   ],
   "source": [
    "# Para ser executada caso usando no colab\n",
    "from google.colab import drive\n",
    "drive.mount('/content/drive')"
   ]
  },
  {
   "cell_type": "code",
   "execution_count": null,
   "metadata": {
    "colab": {},
    "colab_type": "code",
    "id": "e2NaKqZHoOHP"
   },
   "outputs": [],
   "source": [
    "PATH = '/content/drive/My Drive/h2o/'"
   ]
  },
  {
   "cell_type": "markdown",
   "metadata": {
    "colab_type": "text",
    "id": "zBJxVPC2qIkP"
   },
   "source": [
    "# Instalando e iniciando H2O"
   ]
  },
  {
   "cell_type": "code",
   "execution_count": 102,
   "metadata": {
    "colab": {
     "base_uri": "https://localhost:8080/",
     "height": 179
    },
    "colab_type": "code",
    "executionInfo": {
     "elapsed": 4530,
     "status": "ok",
     "timestamp": 1569419308093,
     "user": {
      "displayName": "MATHEUS XAVIER SAMPAIO UFC",
      "photoUrl": "https://lh3.googleusercontent.com/a-/AAuE7mCD2zlNM6R_yR1-UVbNjeJFzXQYNJRQArbUYmY9=s64",
      "userId": "13506587245414265177"
     },
     "user_tz": 180
    },
    "id": "pzBzNRXoYl9C",
    "outputId": "01e9fece-5e8a-4496-c691-5e7312629db0"
   },
   "outputs": [
    {
     "name": "stdout",
     "output_type": "stream",
     "text": [
      "Requirement already satisfied: h2o in /usr/local/lib/python3.6/dist-packages (3.26.0.5)\n",
      "Requirement already satisfied: colorama>=0.3.8 in /usr/local/lib/python3.6/dist-packages (from h2o) (0.4.1)\n",
      "Requirement already satisfied: future in /usr/local/lib/python3.6/dist-packages (from h2o) (0.16.0)\n",
      "Requirement already satisfied: tabulate in /usr/local/lib/python3.6/dist-packages (from h2o) (0.8.3)\n",
      "Requirement already satisfied: requests in /usr/local/lib/python3.6/dist-packages (from h2o) (2.21.0)\n",
      "Requirement already satisfied: certifi>=2017.4.17 in /usr/local/lib/python3.6/dist-packages (from requests->h2o) (2019.6.16)\n",
      "Requirement already satisfied: idna<2.9,>=2.5 in /usr/local/lib/python3.6/dist-packages (from requests->h2o) (2.8)\n",
      "Requirement already satisfied: urllib3<1.25,>=1.21.1 in /usr/local/lib/python3.6/dist-packages (from requests->h2o) (1.24.3)\n",
      "Requirement already satisfied: chardet<3.1.0,>=3.0.2 in /usr/local/lib/python3.6/dist-packages (from requests->h2o) (3.0.4)\n"
     ]
    }
   ],
   "source": [
    "!pip install h2o"
   ]
  },
  {
   "cell_type": "code",
   "execution_count": null,
   "metadata": {
    "colab": {},
    "colab_type": "code",
    "id": "PBLP4tpUYyq-"
   },
   "outputs": [],
   "source": [
    "import h2o\n",
    "import pandas as pd\n",
    "import matplotlib.pyplot as plt\n",
    "\n",
    "plt.style.use('seaborn-darkgrid')"
   ]
  },
  {
   "cell_type": "code",
   "execution_count": 5,
   "metadata": {
    "colab": {
     "base_uri": "https://localhost:8080/",
     "height": 537
    },
    "colab_type": "code",
    "executionInfo": {
     "elapsed": 6947,
     "status": "ok",
     "timestamp": 1569414508941,
     "user": {
      "displayName": "MATHEUS XAVIER SAMPAIO UFC",
      "photoUrl": "https://lh3.googleusercontent.com/a-/AAuE7mCD2zlNM6R_yR1-UVbNjeJFzXQYNJRQArbUYmY9=s64",
      "userId": "13506587245414265177"
     },
     "user_tz": 180
    },
    "id": "WrrrdzJiYz13",
    "outputId": "2563e43e-c360-49e4-c1aa-10e61f6a563f"
   },
   "outputs": [
    {
     "name": "stdout",
     "output_type": "stream",
     "text": [
      "Checking whether there is an H2O instance running at http://localhost:54321 ..... not found.\n",
      "Attempting to start a local H2O server...\n",
      "  Java Version: openjdk version \"11.0.4\" 2019-07-16; OpenJDK Runtime Environment (build 11.0.4+11-post-Ubuntu-1ubuntu218.04.3); OpenJDK 64-Bit Server VM (build 11.0.4+11-post-Ubuntu-1ubuntu218.04.3, mixed mode, sharing)\n",
      "  Starting server from /usr/local/lib/python3.6/dist-packages/h2o/backend/bin/h2o.jar\n",
      "  Ice root: /tmp/tmpda6a3ezy\n",
      "  JVM stdout: /tmp/tmpda6a3ezy/h2o_unknownUser_started_from_python.out\n",
      "  JVM stderr: /tmp/tmpda6a3ezy/h2o_unknownUser_started_from_python.err\n",
      "  Server is running at http://127.0.0.1:54321\n",
      "Connecting to H2O server at http://127.0.0.1:54321 ... successful.\n"
     ]
    },
    {
     "data": {
      "text/html": [
       "<div style=\"overflow:auto\"><table style=\"width:50%\"><tr><td>H2O cluster uptime:</td>\n",
       "<td>02 secs</td></tr>\n",
       "<tr><td>H2O cluster timezone:</td>\n",
       "<td>Etc/UTC</td></tr>\n",
       "<tr><td>H2O data parsing timezone:</td>\n",
       "<td>UTC</td></tr>\n",
       "<tr><td>H2O cluster version:</td>\n",
       "<td>3.26.0.5</td></tr>\n",
       "<tr><td>H2O cluster version age:</td>\n",
       "<td>8 days </td></tr>\n",
       "<tr><td>H2O cluster name:</td>\n",
       "<td>H2O_from_python_unknownUser_49riv7</td></tr>\n",
       "<tr><td>H2O cluster total nodes:</td>\n",
       "<td>1</td></tr>\n",
       "<tr><td>H2O cluster free memory:</td>\n",
       "<td>3 Gb</td></tr>\n",
       "<tr><td>H2O cluster total cores:</td>\n",
       "<td>2</td></tr>\n",
       "<tr><td>H2O cluster allowed cores:</td>\n",
       "<td>2</td></tr>\n",
       "<tr><td>H2O cluster status:</td>\n",
       "<td>accepting new members, healthy</td></tr>\n",
       "<tr><td>H2O connection url:</td>\n",
       "<td>http://127.0.0.1:54321</td></tr>\n",
       "<tr><td>H2O connection proxy:</td>\n",
       "<td>None</td></tr>\n",
       "<tr><td>H2O internal security:</td>\n",
       "<td>False</td></tr>\n",
       "<tr><td>H2O API Extensions:</td>\n",
       "<td>Amazon S3, XGBoost, Algos, AutoML, Core V3, TargetEncoder, Core V4</td></tr>\n",
       "<tr><td>Python version:</td>\n",
       "<td>3.6.8 final</td></tr></table></div>"
      ],
      "text/plain": [
       "--------------------------  ------------------------------------------------------------------\n",
       "H2O cluster uptime:         02 secs\n",
       "H2O cluster timezone:       Etc/UTC\n",
       "H2O data parsing timezone:  UTC\n",
       "H2O cluster version:        3.26.0.5\n",
       "H2O cluster version age:    8 days\n",
       "H2O cluster name:           H2O_from_python_unknownUser_49riv7\n",
       "H2O cluster total nodes:    1\n",
       "H2O cluster free memory:    3 Gb\n",
       "H2O cluster total cores:    2\n",
       "H2O cluster allowed cores:  2\n",
       "H2O cluster status:         accepting new members, healthy\n",
       "H2O connection url:         http://127.0.0.1:54321\n",
       "H2O connection proxy:\n",
       "H2O internal security:      False\n",
       "H2O API Extensions:         Amazon S3, XGBoost, Algos, AutoML, Core V3, TargetEncoder, Core V4\n",
       "Python version:             3.6.8 final\n",
       "--------------------------  ------------------------------------------------------------------"
      ]
     },
     "metadata": {
      "tags": []
     },
     "output_type": "display_data"
    }
   ],
   "source": [
    "h2o.init()\n",
    "# h2o.cluster().shutdown()"
   ]
  },
  {
   "cell_type": "markdown",
   "metadata": {
    "colab_type": "text",
    "id": "1CN3wBaeqMwU"
   },
   "source": [
    "# Importando e preparando dados"
   ]
  },
  {
   "cell_type": "markdown",
   "metadata": {},
   "source": [
    "[Funções utilitárias para usar com o H2O](https://gist.github.com/regispires/9ff805492fb2ad129b015c1ad015a36c)"
   ]
  },
  {
   "cell_type": "code",
   "execution_count": 115,
   "metadata": {
    "colab": {
     "base_uri": "https://localhost:8080/",
     "height": 35
    },
    "colab_type": "code",
    "executionInfo": {
     "elapsed": 12393,
     "status": "ok",
     "timestamp": 1569419901901,
     "user": {
      "displayName": "MATHEUS XAVIER SAMPAIO UFC",
      "photoUrl": "https://lh3.googleusercontent.com/a-/AAuE7mCD2zlNM6R_yR1-UVbNjeJFzXQYNJRQArbUYmY9=s64",
      "userId": "13506587245414265177"
     },
     "user_tz": 180
    },
    "id": "2vJtui2sY3jx",
    "outputId": "0be410a7-fef2-4df2-f31c-c5881c713b58"
   },
   "outputs": [
    {
     "name": "stdout",
     "output_type": "stream",
     "text": [
      "Parse progress: |█████████████████████████████████████████████████████████| 100%\n"
     ]
    }
   ],
   "source": [
    "data = h2o.import_file(PATH + 'data.csv')\n",
    "data = data.head(100000)"
   ]
  },
  {
   "cell_type": "code",
   "execution_count": 116,
   "metadata": {
    "colab": {
     "base_uri": "https://localhost:8080/",
     "height": 411
    },
    "colab_type": "code",
    "executionInfo": {
     "elapsed": 2736,
     "status": "ok",
     "timestamp": 1569419911056,
     "user": {
      "displayName": "MATHEUS XAVIER SAMPAIO UFC",
      "photoUrl": "https://lh3.googleusercontent.com/a-/AAuE7mCD2zlNM6R_yR1-UVbNjeJFzXQYNJRQArbUYmY9=s64",
      "userId": "13506587245414265177"
     },
     "user_tz": 180
    },
    "id": "5He0dJHCZ1y8",
    "outputId": "3296090c-d572-4291-9b7e-60d2802f745d"
   },
   "outputs": [
    {
     "data": {
      "text/html": [
       "<div>\n",
       "<style scoped>\n",
       "    .dataframe tbody tr th:only-of-type {\n",
       "        vertical-align: middle;\n",
       "    }\n",
       "\n",
       "    .dataframe tbody tr th {\n",
       "        vertical-align: top;\n",
       "    }\n",
       "\n",
       "    .dataframe thead th {\n",
       "        text-align: right;\n",
       "    }\n",
       "</style>\n",
       "<table border=\"1\" class=\"dataframe\">\n",
       "  <thead>\n",
       "    <tr style=\"text-align: right;\">\n",
       "      <th></th>\n",
       "      <th>fare_amount</th>\n",
       "      <th>pickup_datetime</th>\n",
       "      <th>pickup_longitude</th>\n",
       "      <th>pickup_latitude</th>\n",
       "      <th>dropoff_longitude</th>\n",
       "      <th>dropoff_latitude</th>\n",
       "      <th>passenger_count</th>\n",
       "      <th>fare-bin</th>\n",
       "      <th>color</th>\n",
       "      <th>abs_lat_diff</th>\n",
       "      <th>abs_lon_diff</th>\n",
       "      <th>manhattan</th>\n",
       "      <th>euclidean</th>\n",
       "      <th>haversine</th>\n",
       "      <th>year_pickup</th>\n",
       "      <th>month_pickup</th>\n",
       "      <th>day_pickup</th>\n",
       "      <th>hour_pickup</th>\n",
       "    </tr>\n",
       "  </thead>\n",
       "  <tbody>\n",
       "    <tr>\n",
       "      <th>0</th>\n",
       "      <td>4.5</td>\n",
       "      <td>2009-06-15 17:26:21+00:00</td>\n",
       "      <td>-73.844311</td>\n",
       "      <td>40.721319</td>\n",
       "      <td>-73.841610</td>\n",
       "      <td>40.712278</td>\n",
       "      <td>1</td>\n",
       "      <td>(0.0, 5.0]</td>\n",
       "      <td>(0.6509803921568628, 0.807843137254902, 0.8901960784313725)</td>\n",
       "      <td>0.009041</td>\n",
       "      <td>0.002701</td>\n",
       "      <td>0.011742</td>\n",
       "      <td>0.009436</td>\n",
       "      <td>15092.034032</td>\n",
       "      <td>2009</td>\n",
       "      <td>6</td>\n",
       "      <td>15</td>\n",
       "      <td>17</td>\n",
       "    </tr>\n",
       "    <tr>\n",
       "      <th>1</th>\n",
       "      <td>5.7</td>\n",
       "      <td>2011-08-18 00:35:00+00:00</td>\n",
       "      <td>-73.982738</td>\n",
       "      <td>40.761270</td>\n",
       "      <td>-73.991242</td>\n",
       "      <td>40.750562</td>\n",
       "      <td>2</td>\n",
       "      <td>(5.0, 10.0]</td>\n",
       "      <td>(0.12156862745098039, 0.47058823529411764, 0.7058823529411765)</td>\n",
       "      <td>0.010708</td>\n",
       "      <td>0.008504</td>\n",
       "      <td>0.019212</td>\n",
       "      <td>0.013674</td>\n",
       "      <td>15098.497877</td>\n",
       "      <td>2011</td>\n",
       "      <td>8</td>\n",
       "      <td>18</td>\n",
       "      <td>0</td>\n",
       "    </tr>\n",
       "    <tr>\n",
       "      <th>2</th>\n",
       "      <td>7.7</td>\n",
       "      <td>2012-04-21 04:30:42+00:00</td>\n",
       "      <td>-73.987130</td>\n",
       "      <td>40.733143</td>\n",
       "      <td>-73.991567</td>\n",
       "      <td>40.758092</td>\n",
       "      <td>1</td>\n",
       "      <td>(5.0, 10.0]</td>\n",
       "      <td>(0.12156862745098039, 0.47058823529411764, 0.7058823529411765)</td>\n",
       "      <td>0.024949</td>\n",
       "      <td>0.004437</td>\n",
       "      <td>0.029386</td>\n",
       "      <td>0.025340</td>\n",
       "      <td>15098.557034</td>\n",
       "      <td>2012</td>\n",
       "      <td>4</td>\n",
       "      <td>21</td>\n",
       "      <td>4</td>\n",
       "    </tr>\n",
       "    <tr>\n",
       "      <th>3</th>\n",
       "      <td>5.3</td>\n",
       "      <td>2010-03-09 07:51:00+00:00</td>\n",
       "      <td>-73.968095</td>\n",
       "      <td>40.768008</td>\n",
       "      <td>-73.956655</td>\n",
       "      <td>40.783762</td>\n",
       "      <td>1</td>\n",
       "      <td>(5.0, 10.0]</td>\n",
       "      <td>(0.12156862745098039, 0.47058823529411764, 0.7058823529411765)</td>\n",
       "      <td>0.015754</td>\n",
       "      <td>0.011440</td>\n",
       "      <td>0.027194</td>\n",
       "      <td>0.019470</td>\n",
       "      <td>15102.393629</td>\n",
       "      <td>2010</td>\n",
       "      <td>3</td>\n",
       "      <td>9</td>\n",
       "      <td>7</td>\n",
       "    </tr>\n",
       "    <tr>\n",
       "      <th>4</th>\n",
       "      <td>7.5</td>\n",
       "      <td>2012-11-20 20:35:00+00:00</td>\n",
       "      <td>-73.980002</td>\n",
       "      <td>40.751662</td>\n",
       "      <td>-73.973802</td>\n",
       "      <td>40.764842</td>\n",
       "      <td>1</td>\n",
       "      <td>(5.0, 10.0]</td>\n",
       "      <td>(0.12156862745098039, 0.47058823529411764, 0.7058823529411765)</td>\n",
       "      <td>0.013180</td>\n",
       "      <td>0.006200</td>\n",
       "      <td>0.019380</td>\n",
       "      <td>0.014565</td>\n",
       "      <td>15099.954549</td>\n",
       "      <td>2012</td>\n",
       "      <td>11</td>\n",
       "      <td>20</td>\n",
       "      <td>20</td>\n",
       "    </tr>\n",
       "  </tbody>\n",
       "</table>\n",
       "</div>"
      ],
      "text/plain": [
       "   fare_amount            pickup_datetime  ...  day_pickup  hour_pickup\n",
       "0          4.5  2009-06-15 17:26:21+00:00  ...          15           17\n",
       "1          5.7  2011-08-18 00:35:00+00:00  ...          18            0\n",
       "2          7.7  2012-04-21 04:30:42+00:00  ...          21            4\n",
       "3          5.3  2010-03-09 07:51:00+00:00  ...           9            7\n",
       "4          7.5  2012-11-20 20:35:00+00:00  ...          20           20\n",
       "\n",
       "[5 rows x 18 columns]"
      ]
     },
     "execution_count": 116,
     "metadata": {
      "tags": []
     },
     "output_type": "execute_result"
    }
   ],
   "source": [
    "data.as_data_frame().head(5)"
   ]
  },
  {
   "cell_type": "code",
   "execution_count": null,
   "metadata": {
    "colab": {},
    "colab_type": "code",
    "id": "OiwV6wXFZ22b"
   },
   "outputs": [],
   "source": [
    "y = 'fare_amount'\n",
    "x = data.col_names\n",
    "remove_cols = ['fare_amount', 'pickup_datetime', 'fare-bin']\n",
    "\n",
    "for r in remove_cols:\n",
    "    x.remove(r)"
   ]
  },
  {
   "cell_type": "code",
   "execution_count": null,
   "metadata": {
    "colab": {},
    "colab_type": "code",
    "id": "Xdb-isB4Z8tt"
   },
   "outputs": [],
   "source": [
    "train, test, valid = data.split_frame(ratios=[.7, .15])"
   ]
  },
  {
   "cell_type": "code",
   "execution_count": 119,
   "metadata": {
    "colab": {
     "base_uri": "https://localhost:8080/",
     "height": 627
    },
    "colab_type": "code",
    "executionInfo": {
     "elapsed": 979,
     "status": "ok",
     "timestamp": 1569419918898,
     "user": {
      "displayName": "MATHEUS XAVIER SAMPAIO UFC",
      "photoUrl": "https://lh3.googleusercontent.com/a-/AAuE7mCD2zlNM6R_yR1-UVbNjeJFzXQYNJRQArbUYmY9=s64",
      "userId": "13506587245414265177"
     },
     "user_tz": 180
    },
    "id": "0wgMEWcCaSFT",
    "outputId": "55b4f41c-6409-4f56-c657-5653436f41af"
   },
   "outputs": [
    {
     "data": {
      "text/html": [
       "<table>\n",
       "<thead>\n",
       "<tr><th style=\"text-align: right;\">  fare_amount</th><th>pickup_datetime          </th><th style=\"text-align: right;\">  pickup_longitude</th><th style=\"text-align: right;\">  pickup_latitude</th><th style=\"text-align: right;\">  dropoff_longitude</th><th style=\"text-align: right;\">  dropoff_latitude</th><th style=\"text-align: right;\">  passenger_count</th><th>fare-bin    </th><th>color                                                         </th><th style=\"text-align: right;\">  abs_lat_diff</th><th style=\"text-align: right;\">  abs_lon_diff</th><th style=\"text-align: right;\">  manhattan</th><th style=\"text-align: right;\">  euclidean</th><th style=\"text-align: right;\">  haversine</th><th style=\"text-align: right;\">  year_pickup</th><th style=\"text-align: right;\">  month_pickup</th><th style=\"text-align: right;\">  day_pickup</th><th style=\"text-align: right;\">  hour_pickup</th></tr>\n",
       "</thead>\n",
       "<tbody>\n",
       "<tr><td style=\"text-align: right;\">          5.3</td><td>2010-03-09 07:51:00+00:00</td><td style=\"text-align: right;\">          -73.9681</td><td style=\"text-align: right;\">          40.768 </td><td style=\"text-align: right;\">           -73.9567</td><td style=\"text-align: right;\">           40.7838</td><td style=\"text-align: right;\">                1</td><td>(5.0, 10.0] </td><td>(0.12156862745098039, 0.47058823529411764, 0.7058823529411765)</td><td style=\"text-align: right;\">   0.015754   </td><td style=\"text-align: right;\">    0.01144   </td><td style=\"text-align: right;\">  0.027194 </td><td style=\"text-align: right;\"> 0.0194695 </td><td style=\"text-align: right;\">    15102.4</td><td style=\"text-align: right;\">         2010</td><td style=\"text-align: right;\">             3</td><td style=\"text-align: right;\">           9</td><td style=\"text-align: right;\">            7</td></tr>\n",
       "<tr><td style=\"text-align: right;\">          8.9</td><td>2009-09-02 01:11:00+00:00</td><td style=\"text-align: right;\">          -73.9807</td><td style=\"text-align: right;\">          40.7339</td><td style=\"text-align: right;\">           -73.9915</td><td style=\"text-align: right;\">           40.7581</td><td style=\"text-align: right;\">                2</td><td>(5.0, 10.0] </td><td>(0.12156862745098039, 0.47058823529411764, 0.7058823529411765)</td><td style=\"text-align: right;\">   0.024265   </td><td style=\"text-align: right;\">    0.010882  </td><td style=\"text-align: right;\">  0.035147 </td><td style=\"text-align: right;\"> 0.0265934 </td><td style=\"text-align: right;\">    15098.4</td><td style=\"text-align: right;\">         2009</td><td style=\"text-align: right;\">             9</td><td style=\"text-align: right;\">           2</td><td style=\"text-align: right;\">            1</td></tr>\n",
       "<tr><td style=\"text-align: right;\">          5.5</td><td>2014-02-19 16:03:00+00:00</td><td style=\"text-align: right;\">          -73.9761</td><td style=\"text-align: right;\">          40.7524</td><td style=\"text-align: right;\">           -73.9811</td><td style=\"text-align: right;\">           40.7593</td><td style=\"text-align: right;\">                1</td><td>(5.0, 10.0] </td><td>(0.12156862745098039, 0.47058823529411764, 0.7058823529411765)</td><td style=\"text-align: right;\">   0.006863   </td><td style=\"text-align: right;\">    0.005007  </td><td style=\"text-align: right;\">  0.01187  </td><td style=\"text-align: right;\"> 0.00849534</td><td style=\"text-align: right;\">    15099.1</td><td style=\"text-align: right;\">         2014</td><td style=\"text-align: right;\">             2</td><td style=\"text-align: right;\">          19</td><td style=\"text-align: right;\">           16</td></tr>\n",
       "<tr><td style=\"text-align: right;\">         18.1</td><td>2011-09-07 23:05:44+00:00</td><td style=\"text-align: right;\">          -73.9937</td><td style=\"text-align: right;\">          40.7408</td><td style=\"text-align: right;\">           -73.9993</td><td style=\"text-align: right;\">           40.6766</td><td style=\"text-align: right;\">                1</td><td>(15.0, 20.0]</td><td>(0.6980392156862745, 0.8745098039215686, 0.5411764705882353)  </td><td style=\"text-align: right;\">   0.064168   </td><td style=\"text-align: right;\">    0.005555  </td><td style=\"text-align: right;\">  0.069723 </td><td style=\"text-align: right;\"> 0.064408  </td><td style=\"text-align: right;\">    15090.4</td><td style=\"text-align: right;\">         2011</td><td style=\"text-align: right;\">             9</td><td style=\"text-align: right;\">           7</td><td style=\"text-align: right;\">           23</td></tr>\n",
       "<tr><td style=\"text-align: right;\">          5.3</td><td>2011-03-04 18:12:00+00:00</td><td style=\"text-align: right;\">          -73.997 </td><td style=\"text-align: right;\">          40.7371</td><td style=\"text-align: right;\">           -73.9861</td><td style=\"text-align: right;\">           40.735 </td><td style=\"text-align: right;\">                1</td><td>(5.0, 10.0] </td><td>(0.12156862745098039, 0.47058823529411764, 0.7058823529411765)</td><td style=\"text-align: right;\">   0.002052   </td><td style=\"text-align: right;\">    0.010909  </td><td style=\"text-align: right;\">  0.012961 </td><td style=\"text-align: right;\"> 0.0111003 </td><td style=\"text-align: right;\">    15096.7</td><td style=\"text-align: right;\">         2011</td><td style=\"text-align: right;\">             3</td><td style=\"text-align: right;\">           4</td><td style=\"text-align: right;\">           18</td></tr>\n",
       "<tr><td style=\"text-align: right;\">          4.5</td><td>2011-06-01 20:30:00+00:00</td><td style=\"text-align: right;\">          -73.9808</td><td style=\"text-align: right;\">          40.7444</td><td style=\"text-align: right;\">           -73.9911</td><td style=\"text-align: right;\">           40.7488</td><td style=\"text-align: right;\">                1</td><td>(0.0, 5.0]  </td><td>(0.6509803921568628, 0.807843137254902, 0.8901960784313725)   </td><td style=\"text-align: right;\">   0.004377   </td><td style=\"text-align: right;\">    0.010271  </td><td style=\"text-align: right;\">  0.014648 </td><td style=\"text-align: right;\"> 0.0111647 </td><td style=\"text-align: right;\">    15097.8</td><td style=\"text-align: right;\">         2011</td><td style=\"text-align: right;\">             6</td><td style=\"text-align: right;\">           1</td><td style=\"text-align: right;\">           20</td></tr>\n",
       "<tr><td style=\"text-align: right;\">          9.7</td><td>2011-12-06 09:09:21+00:00</td><td style=\"text-align: right;\">          -73.9856</td><td style=\"text-align: right;\">          40.7398</td><td style=\"text-align: right;\">           -73.9739</td><td style=\"text-align: right;\">           40.7604</td><td style=\"text-align: right;\">                1</td><td>(5.0, 10.0] </td><td>(0.12156862745098039, 0.47058823529411764, 0.7058823529411765)</td><td style=\"text-align: right;\">   0.020661   </td><td style=\"text-align: right;\">    0.011683  </td><td style=\"text-align: right;\">  0.032344 </td><td style=\"text-align: right;\"> 0.0237354 </td><td style=\"text-align: right;\">    15099.3</td><td style=\"text-align: right;\">         2011</td><td style=\"text-align: right;\">            12</td><td style=\"text-align: right;\">           6</td><td style=\"text-align: right;\">            9</td></tr>\n",
       "<tr><td style=\"text-align: right;\">          7.5</td><td>2013-09-07 03:17:00+00:00</td><td style=\"text-align: right;\">          -73.9777</td><td style=\"text-align: right;\">          40.7462</td><td style=\"text-align: right;\">           -73.9758</td><td style=\"text-align: right;\">           40.7451</td><td style=\"text-align: right;\">                1</td><td>(5.0, 10.0] </td><td>(0.12156862745098039, 0.47058823529411764, 0.7058823529411765)</td><td style=\"text-align: right;\">   0.001157   </td><td style=\"text-align: right;\">    0.001926  </td><td style=\"text-align: right;\">  0.003083 </td><td style=\"text-align: right;\"> 0.0022468 </td><td style=\"text-align: right;\">    15097.6</td><td style=\"text-align: right;\">         2013</td><td style=\"text-align: right;\">             9</td><td style=\"text-align: right;\">           7</td><td style=\"text-align: right;\">            3</td></tr>\n",
       "<tr><td style=\"text-align: right;\">         15.3</td><td>2012-01-04 18:07:29+00:00</td><td style=\"text-align: right;\">          -73.9715</td><td style=\"text-align: right;\">          40.7559</td><td style=\"text-align: right;\">           -73.9681</td><td style=\"text-align: right;\">           40.8012</td><td style=\"text-align: right;\">                1</td><td>(15.0, 20.0]</td><td>(0.6980392156862745, 0.8745098039215686, 0.5411764705882353)  </td><td style=\"text-align: right;\">   0.045287   </td><td style=\"text-align: right;\">    0.003443  </td><td style=\"text-align: right;\">  0.04873  </td><td style=\"text-align: right;\"> 0.0454177 </td><td style=\"text-align: right;\">    15103.7</td><td style=\"text-align: right;\">         2012</td><td style=\"text-align: right;\">             1</td><td style=\"text-align: right;\">           4</td><td style=\"text-align: right;\">           18</td></tr>\n",
       "<tr><td style=\"text-align: right;\">          5  </td><td>2015-05-12 23:51:42+00:00</td><td style=\"text-align: right;\">          -73.9548</td><td style=\"text-align: right;\">          40.7793</td><td style=\"text-align: right;\">           -73.9449</td><td style=\"text-align: right;\">           40.7801</td><td style=\"text-align: right;\">                1</td><td>(0.0, 5.0]  </td><td>(0.6509803921568628, 0.807843137254902, 0.8901960784313725)   </td><td style=\"text-align: right;\">   0.000751495</td><td style=\"text-align: right;\">    0.00986481</td><td style=\"text-align: right;\">  0.0106163</td><td style=\"text-align: right;\"> 0.00989339</td><td style=\"text-align: right;\">    15102.2</td><td style=\"text-align: right;\">         2015</td><td style=\"text-align: right;\">             5</td><td style=\"text-align: right;\">          12</td><td style=\"text-align: right;\">           23</td></tr>\n",
       "</tbody>\n",
       "</table>"
      ]
     },
     "metadata": {
      "tags": []
     },
     "output_type": "display_data"
    },
    {
     "data": {
      "text/plain": []
     },
     "execution_count": 119,
     "metadata": {
      "tags": []
     },
     "output_type": "execute_result"
    }
   ],
   "source": [
    "test"
   ]
  },
  {
   "cell_type": "markdown",
   "metadata": {
    "colab_type": "text",
    "id": "NvqRXugzqQjc"
   },
   "source": [
    "# Modelos H2O"
   ]
  },
  {
   "cell_type": "markdown",
   "metadata": {
    "colab_type": "text",
    "id": "dQ5EE2OOqT6K"
   },
   "source": [
    "## [Random Forest](http://docs.h2o.ai/h2o/latest-stable/h2o-docs/data-science/drf.html)"
   ]
  },
  {
   "cell_type": "code",
   "execution_count": null,
   "metadata": {
    "colab": {},
    "colab_type": "code",
    "id": "zwsai7I0bgho"
   },
   "outputs": [],
   "source": [
    "from h2o.estimators.random_forest import H2ORandomForestEstimator"
   ]
  },
  {
   "cell_type": "code",
   "execution_count": 121,
   "metadata": {
    "colab": {
     "base_uri": "https://localhost:8080/",
     "height": 35
    },
    "colab_type": "code",
    "executionInfo": {
     "elapsed": 29873,
     "status": "ok",
     "timestamp": 1569419953650,
     "user": {
      "displayName": "MATHEUS XAVIER SAMPAIO UFC",
      "photoUrl": "https://lh3.googleusercontent.com/a-/AAuE7mCD2zlNM6R_yR1-UVbNjeJFzXQYNJRQArbUYmY9=s64",
      "userId": "13506587245414265177"
     },
     "user_tz": 180
    },
    "id": "_K9qbyXOa6yj",
    "outputId": "2b2c7aa7-b60c-4bd3-ce4d-211ee5d1d6b5"
   },
   "outputs": [
    {
     "name": "stdout",
     "output_type": "stream",
     "text": [
      "drf Model Build progress: |███████████████████████████████████████████████| 100%\n"
     ]
    }
   ],
   "source": [
    "rf = H2ORandomForestEstimator(seed=1)\n",
    "rf.train(x=x, y=y, training_frame=train)"
   ]
  },
  {
   "cell_type": "code",
   "execution_count": 122,
   "metadata": {
    "colab": {
     "base_uri": "https://localhost:8080/",
     "height": 116
    },
    "colab_type": "code",
    "executionInfo": {
     "elapsed": 797,
     "status": "ok",
     "timestamp": 1569419987514,
     "user": {
      "displayName": "MATHEUS XAVIER SAMPAIO UFC",
      "photoUrl": "https://lh3.googleusercontent.com/a-/AAuE7mCD2zlNM6R_yR1-UVbNjeJFzXQYNJRQArbUYmY9=s64",
      "userId": "13506587245414265177"
     },
     "user_tz": 180
    },
    "id": "LEWiG_xrbfPy",
    "outputId": "e0a269d8-f4d7-4818-e99a-a56f43673cfa"
   },
   "outputs": [
    {
     "name": "stdout",
     "output_type": "stream",
     "text": [
      "\n",
      "Model Summary: "
     ]
    },
    {
     "data": {
      "text/html": [
       "<div>\n",
       "<style scoped>\n",
       "    .dataframe tbody tr th:only-of-type {\n",
       "        vertical-align: middle;\n",
       "    }\n",
       "\n",
       "    .dataframe tbody tr th {\n",
       "        vertical-align: top;\n",
       "    }\n",
       "\n",
       "    .dataframe thead th {\n",
       "        text-align: right;\n",
       "    }\n",
       "</style>\n",
       "<table border=\"1\" class=\"dataframe\">\n",
       "  <thead>\n",
       "    <tr style=\"text-align: right;\">\n",
       "      <th></th>\n",
       "      <th></th>\n",
       "      <th>number_of_trees</th>\n",
       "      <th>number_of_internal_trees</th>\n",
       "      <th>model_size_in_bytes</th>\n",
       "      <th>min_depth</th>\n",
       "      <th>max_depth</th>\n",
       "      <th>mean_depth</th>\n",
       "      <th>min_leaves</th>\n",
       "      <th>max_leaves</th>\n",
       "      <th>mean_leaves</th>\n",
       "    </tr>\n",
       "  </thead>\n",
       "  <tbody>\n",
       "    <tr>\n",
       "      <th>0</th>\n",
       "      <td></td>\n",
       "      <td>50.0</td>\n",
       "      <td>50.0</td>\n",
       "      <td>10850719.0</td>\n",
       "      <td>20.0</td>\n",
       "      <td>20.0</td>\n",
       "      <td>20.0</td>\n",
       "      <td>14702.0</td>\n",
       "      <td>19663.0</td>\n",
       "      <td>17287.64</td>\n",
       "    </tr>\n",
       "  </tbody>\n",
       "</table>\n",
       "</div>"
      ],
      "text/plain": [
       "     number_of_trees  ...  max_leaves  mean_leaves\n",
       "0               50.0  ...     19663.0     17287.64\n",
       "\n",
       "[1 rows x 10 columns]"
      ]
     },
     "metadata": {
      "tags": []
     },
     "output_type": "display_data"
    },
    {
     "data": {
      "text/plain": []
     },
     "execution_count": 122,
     "metadata": {
      "tags": []
     },
     "output_type": "execute_result"
    }
   ],
   "source": [
    "rf.summary()"
   ]
  },
  {
   "cell_type": "code",
   "execution_count": 123,
   "metadata": {
    "colab": {
     "base_uri": "https://localhost:8080/",
     "height": 291
    },
    "colab_type": "code",
    "executionInfo": {
     "elapsed": 1043,
     "status": "ok",
     "timestamp": 1569419996187,
     "user": {
      "displayName": "MATHEUS XAVIER SAMPAIO UFC",
      "photoUrl": "https://lh3.googleusercontent.com/a-/AAuE7mCD2zlNM6R_yR1-UVbNjeJFzXQYNJRQArbUYmY9=s64",
      "userId": "13506587245414265177"
     },
     "user_tz": 180
    },
    "id": "ebElgYcbb9DY",
    "outputId": "482cac1e-581a-4643-c256-727c41dc30f7"
   },
   "outputs": [
    {
     "data": {
      "image/png": "[encoded data removed]",
      "text/plain": [
       "<Figure size 432x288 with 1 Axes>"
      ]
     },
     "metadata": {
      "tags": []
     },
     "output_type": "display_data"
    }
   ],
   "source": [
    "rf.plot()"
   ]
  },
  {
   "cell_type": "code",
   "execution_count": 124,
   "metadata": {
    "colab": {
     "base_uri": "https://localhost:8080/",
     "height": 179
    },
    "colab_type": "code",
    "executionInfo": {
     "elapsed": 1250,
     "status": "ok",
     "timestamp": 1569420003697,
     "user": {
      "displayName": "MATHEUS XAVIER SAMPAIO UFC",
      "photoUrl": "https://lh3.googleusercontent.com/a-/AAuE7mCD2zlNM6R_yR1-UVbNjeJFzXQYNJRQArbUYmY9=s64",
      "userId": "13506587245414265177"
     },
     "user_tz": 180
    },
    "id": "LgWPrdp-cLqe",
    "outputId": "4ca98b38-afb7-44f7-c4e0-06f1b983621a"
   },
   "outputs": [
    {
     "name": "stdout",
     "output_type": "stream",
     "text": [
      "\n",
      "ModelMetricsRegression: drf\n",
      "** Reported on test data. **\n",
      "\n",
      "MSE: 1.5644295622046063\n",
      "RMSE: 1.2507715867434015\n",
      "MAE: 0.8334699894227148\n",
      "RMSLE: 0.10382069612048572\n",
      "Mean Residual Deviance: 1.5644295622046063\n"
     ]
    },
    {
     "data": {
      "text/plain": []
     },
     "execution_count": 124,
     "metadata": {
      "tags": []
     },
     "output_type": "execute_result"
    }
   ],
   "source": [
    "rf.model_performance(test)"
   ]
  },
  {
   "cell_type": "code",
   "execution_count": 125,
   "metadata": {
    "colab": {
     "base_uri": "https://localhost:8080/",
     "height": 35
    },
    "colab_type": "code",
    "executionInfo": {
     "elapsed": 106677,
     "status": "ok",
     "timestamp": 1569420135089,
     "user": {
      "displayName": "MATHEUS XAVIER SAMPAIO UFC",
      "photoUrl": "https://lh3.googleusercontent.com/a-/AAuE7mCD2zlNM6R_yR1-UVbNjeJFzXQYNJRQArbUYmY9=s64",
      "userId": "13506587245414265177"
     },
     "user_tz": 180
    },
    "id": "ir0HoK8zckm6",
    "outputId": "f0b4f2a1-752e-4194-cafd-0ac33e5a86aa"
   },
   "outputs": [
    {
     "name": "stdout",
     "output_type": "stream",
     "text": [
      "drf Model Build progress: |███████████████████████████████████████████████| 100%\n"
     ]
    }
   ],
   "source": [
    "rf_2 = H2ORandomForestEstimator(ntrees=100, max_depth=40, seed=1)\n",
    "rf_2.train(x=x, y=y, training_frame=train)"
   ]
  },
  {
   "cell_type": "code",
   "execution_count": 126,
   "metadata": {
    "colab": {
     "base_uri": "https://localhost:8080/",
     "height": 116
    },
    "colab_type": "code",
    "executionInfo": {
     "elapsed": 877,
     "status": "ok",
     "timestamp": 1569420721552,
     "user": {
      "displayName": "MATHEUS XAVIER SAMPAIO UFC",
      "photoUrl": "https://lh3.googleusercontent.com/a-/AAuE7mCD2zlNM6R_yR1-UVbNjeJFzXQYNJRQArbUYmY9=s64",
      "userId": "13506587245414265177"
     },
     "user_tz": 180
    },
    "id": "UN7YcrfEdefh",
    "outputId": "f8f44714-a129-47d3-fd25-33f1dbd023f4"
   },
   "outputs": [
    {
     "name": "stdout",
     "output_type": "stream",
     "text": [
      "\n",
      "Model Summary: "
     ]
    },
    {
     "data": {
      "text/html": [
       "<div>\n",
       "<style scoped>\n",
       "    .dataframe tbody tr th:only-of-type {\n",
       "        vertical-align: middle;\n",
       "    }\n",
       "\n",
       "    .dataframe tbody tr th {\n",
       "        vertical-align: top;\n",
       "    }\n",
       "\n",
       "    .dataframe thead th {\n",
       "        text-align: right;\n",
       "    }\n",
       "</style>\n",
       "<table border=\"1\" class=\"dataframe\">\n",
       "  <thead>\n",
       "    <tr style=\"text-align: right;\">\n",
       "      <th></th>\n",
       "      <th></th>\n",
       "      <th>number_of_trees</th>\n",
       "      <th>number_of_internal_trees</th>\n",
       "      <th>model_size_in_bytes</th>\n",
       "      <th>min_depth</th>\n",
       "      <th>max_depth</th>\n",
       "      <th>mean_depth</th>\n",
       "      <th>min_leaves</th>\n",
       "      <th>max_leaves</th>\n",
       "      <th>mean_leaves</th>\n",
       "    </tr>\n",
       "  </thead>\n",
       "  <tbody>\n",
       "    <tr>\n",
       "      <th>0</th>\n",
       "      <td></td>\n",
       "      <td>100.0</td>\n",
       "      <td>100.0</td>\n",
       "      <td>38180317.0</td>\n",
       "      <td>35.0</td>\n",
       "      <td>40.0</td>\n",
       "      <td>38.96</td>\n",
       "      <td>29983.0</td>\n",
       "      <td>31030.0</td>\n",
       "      <td>30404.94</td>\n",
       "    </tr>\n",
       "  </tbody>\n",
       "</table>\n",
       "</div>"
      ],
      "text/plain": [
       "     number_of_trees  ...  max_leaves  mean_leaves\n",
       "0              100.0  ...     31030.0     30404.94\n",
       "\n",
       "[1 rows x 10 columns]"
      ]
     },
     "metadata": {
      "tags": []
     },
     "output_type": "display_data"
    },
    {
     "data": {
      "text/plain": []
     },
     "execution_count": 126,
     "metadata": {
      "tags": []
     },
     "output_type": "execute_result"
    }
   ],
   "source": [
    "rf_2.summary()"
   ]
  },
  {
   "cell_type": "code",
   "execution_count": 127,
   "metadata": {
    "colab": {
     "base_uri": "https://localhost:8080/",
     "height": 179
    },
    "colab_type": "code",
    "executionInfo": {
     "elapsed": 2443,
     "status": "ok",
     "timestamp": 1569420726968,
     "user": {
      "displayName": "MATHEUS XAVIER SAMPAIO UFC",
      "photoUrl": "https://lh3.googleusercontent.com/a-/AAuE7mCD2zlNM6R_yR1-UVbNjeJFzXQYNJRQArbUYmY9=s64",
      "userId": "13506587245414265177"
     },
     "user_tz": 180
    },
    "id": "V1k2ly7idiat",
    "outputId": "f57755ce-b57c-4ea6-823d-0ab986e337b6"
   },
   "outputs": [
    {
     "name": "stdout",
     "output_type": "stream",
     "text": [
      "\n",
      "ModelMetricsRegression: drf\n",
      "** Reported on test data. **\n",
      "\n",
      "MSE: 1.5364607193549857\n",
      "RMSE: 1.239540527516138\n",
      "MAE: 0.8296137372227109\n",
      "RMSLE: 0.10310952129589715\n",
      "Mean Residual Deviance: 1.5364607193549857\n"
     ]
    },
    {
     "data": {
      "text/plain": []
     },
     "execution_count": 127,
     "metadata": {
      "tags": []
     },
     "output_type": "execute_result"
    }
   ],
   "source": [
    "rf_2.model_performance(test)"
   ]
  },
  {
   "cell_type": "markdown",
   "metadata": {
    "colab_type": "text",
    "id": "byLybbyLqf_p"
   },
   "source": [
    "## [Gradient Boosting Machine](http://docs.h2o.ai/h2o/latest-stable/h2o-docs/data-science/gbm.html)"
   ]
  },
  {
   "cell_type": "code",
   "execution_count": null,
   "metadata": {
    "colab": {},
    "colab_type": "code",
    "id": "l9uUfJ4TdoNV"
   },
   "outputs": [],
   "source": [
    "from h2o.estimators.gbm import H2OGradientBoostingEstimator"
   ]
  },
  {
   "cell_type": "code",
   "execution_count": 129,
   "metadata": {
    "colab": {
     "base_uri": "https://localhost:8080/",
     "height": 35
    },
    "colab_type": "code",
    "executionInfo": {
     "elapsed": 6315,
     "status": "ok",
     "timestamp": 1569420744945,
     "user": {
      "displayName": "MATHEUS XAVIER SAMPAIO UFC",
      "photoUrl": "https://lh3.googleusercontent.com/a-/AAuE7mCD2zlNM6R_yR1-UVbNjeJFzXQYNJRQArbUYmY9=s64",
      "userId": "13506587245414265177"
     },
     "user_tz": 180
    },
    "id": "aDEQ4JlQeLhV",
    "outputId": "d5172a4c-112e-44a7-afcf-10fce0a70cd6"
   },
   "outputs": [
    {
     "name": "stdout",
     "output_type": "stream",
     "text": [
      "gbm Model Build progress: |███████████████████████████████████████████████| 100%\n"
     ]
    }
   ],
   "source": [
    "gbm = H2OGradientBoostingEstimator(seed=1)\n",
    "gbm.train(x=x, y=y, training_frame=train)"
   ]
  },
  {
   "cell_type": "code",
   "execution_count": 130,
   "metadata": {
    "colab": {
     "base_uri": "https://localhost:8080/",
     "height": 116
    },
    "colab_type": "code",
    "executionInfo": {
     "elapsed": 1482,
     "status": "ok",
     "timestamp": 1569421176778,
     "user": {
      "displayName": "MATHEUS XAVIER SAMPAIO UFC",
      "photoUrl": "https://lh3.googleusercontent.com/a-/AAuE7mCD2zlNM6R_yR1-UVbNjeJFzXQYNJRQArbUYmY9=s64",
      "userId": "13506587245414265177"
     },
     "user_tz": 180
    },
    "id": "vsilYsTEeSJ7",
    "outputId": "6ae61d29-329d-4452-8f5a-0c29648f18dc"
   },
   "outputs": [
    {
     "name": "stdout",
     "output_type": "stream",
     "text": [
      "\n",
      "Model Summary: "
     ]
    },
    {
     "data": {
      "text/html": [
       "<div>\n",
       "<style scoped>\n",
       "    .dataframe tbody tr th:only-of-type {\n",
       "        vertical-align: middle;\n",
       "    }\n",
       "\n",
       "    .dataframe tbody tr th {\n",
       "        vertical-align: top;\n",
       "    }\n",
       "\n",
       "    .dataframe thead th {\n",
       "        text-align: right;\n",
       "    }\n",
       "</style>\n",
       "<table border=\"1\" class=\"dataframe\">\n",
       "  <thead>\n",
       "    <tr style=\"text-align: right;\">\n",
       "      <th></th>\n",
       "      <th></th>\n",
       "      <th>number_of_trees</th>\n",
       "      <th>number_of_internal_trees</th>\n",
       "      <th>model_size_in_bytes</th>\n",
       "      <th>min_depth</th>\n",
       "      <th>max_depth</th>\n",
       "      <th>mean_depth</th>\n",
       "      <th>min_leaves</th>\n",
       "      <th>max_leaves</th>\n",
       "      <th>mean_leaves</th>\n",
       "    </tr>\n",
       "  </thead>\n",
       "  <tbody>\n",
       "    <tr>\n",
       "      <th>0</th>\n",
       "      <td></td>\n",
       "      <td>50.0</td>\n",
       "      <td>50.0</td>\n",
       "      <td>21116.0</td>\n",
       "      <td>5.0</td>\n",
       "      <td>5.0</td>\n",
       "      <td>5.0</td>\n",
       "      <td>23.0</td>\n",
       "      <td>32.0</td>\n",
       "      <td>28.88</td>\n",
       "    </tr>\n",
       "  </tbody>\n",
       "</table>\n",
       "</div>"
      ],
      "text/plain": [
       "     number_of_trees  ...  max_leaves  mean_leaves\n",
       "0               50.0  ...        32.0        28.88\n",
       "\n",
       "[1 rows x 10 columns]"
      ]
     },
     "metadata": {
      "tags": []
     },
     "output_type": "display_data"
    },
    {
     "data": {
      "text/plain": []
     },
     "execution_count": 130,
     "metadata": {
      "tags": []
     },
     "output_type": "execute_result"
    }
   ],
   "source": [
    "gbm.summary()"
   ]
  },
  {
   "cell_type": "code",
   "execution_count": 131,
   "metadata": {
    "colab": {
     "base_uri": "https://localhost:8080/",
     "height": 179
    },
    "colab_type": "code",
    "executionInfo": {
     "elapsed": 1595,
     "status": "ok",
     "timestamp": 1569421179929,
     "user": {
      "displayName": "MATHEUS XAVIER SAMPAIO UFC",
      "photoUrl": "https://lh3.googleusercontent.com/a-/AAuE7mCD2zlNM6R_yR1-UVbNjeJFzXQYNJRQArbUYmY9=s64",
      "userId": "13506587245414265177"
     },
     "user_tz": 180
    },
    "id": "hBV7wzZVfTDk",
    "outputId": "d948c9f3-d265-4fe9-82a5-4011c86f5675"
   },
   "outputs": [
    {
     "name": "stdout",
     "output_type": "stream",
     "text": [
      "\n",
      "ModelMetricsRegression: gbm\n",
      "** Reported on test data. **\n",
      "\n",
      "MSE: 1.5043763010502744\n",
      "RMSE: 1.226530187582138\n",
      "MAE: 0.8656745763358688\n",
      "RMSLE: 0.10484550744721978\n",
      "Mean Residual Deviance: 1.5043763010502744\n"
     ]
    },
    {
     "data": {
      "text/plain": []
     },
     "execution_count": 131,
     "metadata": {
      "tags": []
     },
     "output_type": "execute_result"
    }
   ],
   "source": [
    "gbm.model_performance(test)"
   ]
  },
  {
   "cell_type": "code",
   "execution_count": null,
   "metadata": {
    "colab": {},
    "colab_type": "code",
    "id": "ghQJu44cfbgP"
   },
   "outputs": [],
   "source": [
    "gbm_2 = H2OGradientBoostingEstimator(ntrees=1000, stopping_rounds=2, stopping_metric='RMSE', seed=1)"
   ]
  },
  {
   "cell_type": "code",
   "execution_count": 139,
   "metadata": {
    "colab": {
     "base_uri": "https://localhost:8080/",
     "height": 35
    },
    "colab_type": "code",
    "executionInfo": {
     "elapsed": 38119,
     "status": "ok",
     "timestamp": 1569421349395,
     "user": {
      "displayName": "MATHEUS XAVIER SAMPAIO UFC",
      "photoUrl": "https://lh3.googleusercontent.com/a-/AAuE7mCD2zlNM6R_yR1-UVbNjeJFzXQYNJRQArbUYmY9=s64",
      "userId": "13506587245414265177"
     },
     "user_tz": 180
    },
    "id": "g95JlaC7f-sj",
    "outputId": "16a49bfe-1f18-496c-cbf6-fedfeb2203fe"
   },
   "outputs": [
    {
     "name": "stdout",
     "output_type": "stream",
     "text": [
      "gbm Model Build progress: |███████████████████████████████████████████████| 100%\n"
     ]
    }
   ],
   "source": [
    "gbm_2.train(x=x, y=y, training_frame=train, validation_frame=valid)"
   ]
  },
  {
   "cell_type": "code",
   "execution_count": 140,
   "metadata": {
    "colab": {
     "base_uri": "https://localhost:8080/",
     "height": 116
    },
    "colab_type": "code",
    "executionInfo": {
     "elapsed": 996,
     "status": "ok",
     "timestamp": 1569421368690,
     "user": {
      "displayName": "MATHEUS XAVIER SAMPAIO UFC",
      "photoUrl": "https://lh3.googleusercontent.com/a-/AAuE7mCD2zlNM6R_yR1-UVbNjeJFzXQYNJRQArbUYmY9=s64",
      "userId": "13506587245414265177"
     },
     "user_tz": 180
    },
    "id": "75n_vm4cgpYN",
    "outputId": "b78e2ca8-9317-4b01-a394-9b96d13f72fb"
   },
   "outputs": [
    {
     "name": "stdout",
     "output_type": "stream",
     "text": [
      "\n",
      "Model Summary: "
     ]
    },
    {
     "data": {
      "text/html": [
       "<div>\n",
       "<style scoped>\n",
       "    .dataframe tbody tr th:only-of-type {\n",
       "        vertical-align: middle;\n",
       "    }\n",
       "\n",
       "    .dataframe tbody tr th {\n",
       "        vertical-align: top;\n",
       "    }\n",
       "\n",
       "    .dataframe thead th {\n",
       "        text-align: right;\n",
       "    }\n",
       "</style>\n",
       "<table border=\"1\" class=\"dataframe\">\n",
       "  <thead>\n",
       "    <tr style=\"text-align: right;\">\n",
       "      <th></th>\n",
       "      <th></th>\n",
       "      <th>number_of_trees</th>\n",
       "      <th>number_of_internal_trees</th>\n",
       "      <th>model_size_in_bytes</th>\n",
       "      <th>min_depth</th>\n",
       "      <th>max_depth</th>\n",
       "      <th>mean_depth</th>\n",
       "      <th>min_leaves</th>\n",
       "      <th>max_leaves</th>\n",
       "      <th>mean_leaves</th>\n",
       "    </tr>\n",
       "  </thead>\n",
       "  <tbody>\n",
       "    <tr>\n",
       "      <th>0</th>\n",
       "      <td></td>\n",
       "      <td>385.0</td>\n",
       "      <td>385.0</td>\n",
       "      <td>139351.0</td>\n",
       "      <td>5.0</td>\n",
       "      <td>5.0</td>\n",
       "      <td>5.0</td>\n",
       "      <td>6.0</td>\n",
       "      <td>32.0</td>\n",
       "      <td>24.023376</td>\n",
       "    </tr>\n",
       "  </tbody>\n",
       "</table>\n",
       "</div>"
      ],
      "text/plain": [
       "     number_of_trees  ...  max_leaves  mean_leaves\n",
       "0              385.0  ...        32.0    24.023376\n",
       "\n",
       "[1 rows x 10 columns]"
      ]
     },
     "metadata": {
      "tags": []
     },
     "output_type": "display_data"
    },
    {
     "data": {
      "text/plain": []
     },
     "execution_count": 140,
     "metadata": {
      "tags": []
     },
     "output_type": "execute_result"
    }
   ],
   "source": [
    "gbm_2.summary()"
   ]
  },
  {
   "cell_type": "code",
   "execution_count": 141,
   "metadata": {
    "colab": {
     "base_uri": "https://localhost:8080/",
     "height": 291
    },
    "colab_type": "code",
    "executionInfo": {
     "elapsed": 907,
     "status": "ok",
     "timestamp": 1569421374831,
     "user": {
      "displayName": "MATHEUS XAVIER SAMPAIO UFC",
      "photoUrl": "https://lh3.googleusercontent.com/a-/AAuE7mCD2zlNM6R_yR1-UVbNjeJFzXQYNJRQArbUYmY9=s64",
      "userId": "13506587245414265177"
     },
     "user_tz": 180
    },
    "id": "TYlcgkEvg5zB",
    "outputId": "1aca3193-fcd7-4969-f1fe-672eafff52bb"
   },
   "outputs": [
    {
     "data": {
      "image/png": "[encoded data removed]",
      "text/plain": [
       "<Figure size 432x288 with 1 Axes>"
      ]
     },
     "metadata": {
      "tags": []
     },
     "output_type": "display_data"
    }
   ],
   "source": [
    "gbm_2.plot()"
   ]
  },
  {
   "cell_type": "markdown",
   "metadata": {
    "colab_type": "text",
    "id": "UPjLZxwoqlTH"
   },
   "source": [
    "## [Stacked Ensemble](http://docs.h2o.ai/h2o/latest-stable/h2o-docs/data-science/stacked-ensembles.html)"
   ]
  },
  {
   "cell_type": "code",
   "execution_count": null,
   "metadata": {
    "colab": {},
    "colab_type": "code",
    "id": "TMwuzAbChA-e"
   },
   "outputs": [],
   "source": [
    "from h2o.estimators.stackedensemble import H2OStackedEnsembleEstimator"
   ]
  },
  {
   "cell_type": "code",
   "execution_count": null,
   "metadata": {
    "colab": {},
    "colab_type": "code",
    "id": "xthA-rkRhTYZ"
   },
   "outputs": [],
   "source": [
    "n_folds = 3"
   ]
  },
  {
   "cell_type": "code",
   "execution_count": 144,
   "metadata": {
    "colab": {
     "base_uri": "https://localhost:8080/",
     "height": 35
    },
    "colab_type": "code",
    "executionInfo": {
     "elapsed": 118978,
     "status": "ok",
     "timestamp": 1569421500807,
     "user": {
      "displayName": "MATHEUS XAVIER SAMPAIO UFC",
      "photoUrl": "https://lh3.googleusercontent.com/a-/AAuE7mCD2zlNM6R_yR1-UVbNjeJFzXQYNJRQArbUYmY9=s64",
      "userId": "13506587245414265177"
     },
     "user_tz": 180
    },
    "id": "nwPyqOnphM6f",
    "outputId": "8f690e99-9287-40a8-efe6-ffb69ba69328"
   },
   "outputs": [
    {
     "name": "stdout",
     "output_type": "stream",
     "text": [
      "drf Model Build progress: |███████████████████████████████████████████████| 100%\n"
     ]
    }
   ],
   "source": [
    "my_rf = H2ORandomForestEstimator(nfolds=n_folds,\n",
    "                                 keep_cross_validation_predictions=True,\n",
    "                                 seed=1)\n",
    "my_rf.train(x=x, y=y, training_frame=train)"
   ]
  },
  {
   "cell_type": "code",
   "execution_count": 145,
   "metadata": {
    "colab": {
     "base_uri": "https://localhost:8080/",
     "height": 35
    },
    "colab_type": "code",
    "executionInfo": {
     "elapsed": 144109,
     "status": "ok",
     "timestamp": 1569421526691,
     "user": {
      "displayName": "MATHEUS XAVIER SAMPAIO UFC",
      "photoUrl": "https://lh3.googleusercontent.com/a-/AAuE7mCD2zlNM6R_yR1-UVbNjeJFzXQYNJRQArbUYmY9=s64",
      "userId": "13506587245414265177"
     },
     "user_tz": 180
    },
    "id": "8m9P2K7mhQIo",
    "outputId": "3da0e5c1-169f-4fea-f68d-4f57fbc5c961"
   },
   "outputs": [
    {
     "name": "stdout",
     "output_type": "stream",
     "text": [
      "gbm Model Build progress: |███████████████████████████████████████████████| 100%\n"
     ]
    }
   ],
   "source": [
    "my_gbm = H2OGradientBoostingEstimator(nfolds=n_folds,\n",
    "                                      keep_cross_validation_predictions=True,\n",
    "                                      seed=1)\n",
    "my_gbm.train(x=x, y=y, training_frame=train)"
   ]
  },
  {
   "cell_type": "code",
   "execution_count": 146,
   "metadata": {
    "colab": {
     "base_uri": "https://localhost:8080/",
     "height": 35
    },
    "colab_type": "code",
    "executionInfo": {
     "elapsed": 5184,
     "status": "ok",
     "timestamp": 1569421557728,
     "user": {
      "displayName": "MATHEUS XAVIER SAMPAIO UFC",
      "photoUrl": "https://lh3.googleusercontent.com/a-/AAuE7mCD2zlNM6R_yR1-UVbNjeJFzXQYNJRQArbUYmY9=s64",
      "userId": "13506587245414265177"
     },
     "user_tz": 180
    },
    "id": "tVi9xCYAhcVG",
    "outputId": "ec573ca5-d992-44dd-dbb2-6324f630826a"
   },
   "outputs": [
    {
     "name": "stdout",
     "output_type": "stream",
     "text": [
      "stackedensemble Model Build progress: |███████████████████████████████████| 100%\n"
     ]
    }
   ],
   "source": [
    "ensemble = H2OStackedEnsembleEstimator(base_models=[my_rf, my_gbm])\n",
    "ensemble.train(x=x, y=y, training_frame=train)"
   ]
  },
  {
   "cell_type": "code",
   "execution_count": 147,
   "metadata": {
    "colab": {
     "base_uri": "https://localhost:8080/",
     "height": 287
    },
    "colab_type": "code",
    "executionInfo": {
     "elapsed": 1215,
     "status": "ok",
     "timestamp": 1569421561313,
     "user": {
      "displayName": "MATHEUS XAVIER SAMPAIO UFC",
      "photoUrl": "https://lh3.googleusercontent.com/a-/AAuE7mCD2zlNM6R_yR1-UVbNjeJFzXQYNJRQArbUYmY9=s64",
      "userId": "13506587245414265177"
     },
     "user_tz": 180
    },
    "id": "o6ql3yz1iFkF",
    "outputId": "c0b76938-5a26-4e18-cd6a-48ff491d9cea"
   },
   "outputs": [
    {
     "name": "stdout",
     "output_type": "stream",
     "text": [
      "\n",
      "ModelMetricsRegressionGLM: stackedensemble\n",
      "** Reported on test data. **\n",
      "\n",
      "MSE: 1.4673695707638017\n",
      "RMSE: 1.211350308855288\n",
      "MAE: 0.8369592049023243\n",
      "RMSLE: 0.10246240643111541\n",
      "R^2: 0.9823163735782641\n",
      "Mean Residual Deviance: 1.4673695707638017\n",
      "Null degrees of freedom: 15068\n",
      "Residual degrees of freedom: 15066\n",
      "Null deviance: 1250564.529047905\n",
      "Residual deviance: 22111.79206183973\n",
      "AIC: 48550.4998933193\n"
     ]
    },
    {
     "data": {
      "text/plain": []
     },
     "execution_count": 147,
     "metadata": {
      "tags": []
     },
     "output_type": "execute_result"
    }
   ],
   "source": [
    "ensemble.model_performance(test)"
   ]
  },
  {
   "cell_type": "markdown",
   "metadata": {
    "colab_type": "text",
    "id": "QIUoPUjQqq_2"
   },
   "source": [
    "# H2O AutoML"
   ]
  },
  {
   "cell_type": "code",
   "execution_count": null,
   "metadata": {
    "colab": {},
    "colab_type": "code",
    "id": "NfNGG1IIiXeX"
   },
   "outputs": [],
   "source": [
    "from h2o.automl import H2OAutoML"
   ]
  },
  {
   "cell_type": "code",
   "execution_count": 149,
   "metadata": {
    "colab": {
     "base_uri": "https://localhost:8080/",
     "height": 35
    },
    "colab_type": "code",
    "executionInfo": {
     "elapsed": 317442,
     "status": "ok",
     "timestamp": 1569421930840,
     "user": {
      "displayName": "MATHEUS XAVIER SAMPAIO UFC",
      "photoUrl": "https://lh3.googleusercontent.com/a-/AAuE7mCD2zlNM6R_yR1-UVbNjeJFzXQYNJRQArbUYmY9=s64",
      "userId": "13506587245414265177"
     },
     "user_tz": 180
    },
    "id": "caiyQcsqi_qD",
    "outputId": "3b8a6d3e-1bb0-42ad-e0d0-798221308fbb"
   },
   "outputs": [
    {
     "name": "stdout",
     "output_type": "stream",
     "text": [
      "AutoML progress: |████████████████████████████████████████████████████████| 100%\n"
     ]
    }
   ],
   "source": [
    "aml = H2OAutoML(nfolds=3, max_runtime_secs=300, seed=1)\n",
    "aml.train(x=x, y=y, training_frame=train.head(10000), validation_frame=valid.head(2000), leaderboard_frame=valid)"
   ]
  },
  {
   "cell_type": "code",
   "execution_count": null,
   "metadata": {
    "colab": {},
    "colab_type": "code",
    "id": "EAEBfLwkjY0j"
   },
   "outputs": [],
   "source": [
    "leaderboard = aml.leaderboard.as_data_frame()"
   ]
  },
  {
   "cell_type": "code",
   "execution_count": 151,
   "metadata": {
    "colab": {
     "base_uri": "https://localhost:8080/",
     "height": 204
    },
    "colab_type": "code",
    "executionInfo": {
     "elapsed": 873,
     "status": "ok",
     "timestamp": 1569422004457,
     "user": {
      "displayName": "MATHEUS XAVIER SAMPAIO UFC",
      "photoUrl": "https://lh3.googleusercontent.com/a-/AAuE7mCD2zlNM6R_yR1-UVbNjeJFzXQYNJRQArbUYmY9=s64",
      "userId": "13506587245414265177"
     },
     "user_tz": 180
    },
    "id": "Ohx05MVGpoAU",
    "outputId": "33bd9855-eaca-44f8-e5c5-439bc9c41a2c"
   },
   "outputs": [
    {
     "data": {
      "text/html": [
       "<div>\n",
       "<style scoped>\n",
       "    .dataframe tbody tr th:only-of-type {\n",
       "        vertical-align: middle;\n",
       "    }\n",
       "\n",
       "    .dataframe tbody tr th {\n",
       "        vertical-align: top;\n",
       "    }\n",
       "\n",
       "    .dataframe thead th {\n",
       "        text-align: right;\n",
       "    }\n",
       "</style>\n",
       "<table border=\"1\" class=\"dataframe\">\n",
       "  <thead>\n",
       "    <tr style=\"text-align: right;\">\n",
       "      <th></th>\n",
       "      <th>model_id</th>\n",
       "      <th>mean_residual_deviance</th>\n",
       "      <th>rmse</th>\n",
       "      <th>mse</th>\n",
       "      <th>mae</th>\n",
       "      <th>rmsle</th>\n",
       "    </tr>\n",
       "  </thead>\n",
       "  <tbody>\n",
       "    <tr>\n",
       "      <th>0</th>\n",
       "      <td>StackedEnsemble_AllModels_AutoML_20190925_142654</td>\n",
       "      <td>1.509473</td>\n",
       "      <td>1.228606</td>\n",
       "      <td>1.509473</td>\n",
       "      <td>0.848056</td>\n",
       "      <td>0.104091</td>\n",
       "    </tr>\n",
       "    <tr>\n",
       "      <th>1</th>\n",
       "      <td>GBM_1_AutoML_20190925_142654</td>\n",
       "      <td>1.533986</td>\n",
       "      <td>1.238542</td>\n",
       "      <td>1.533986</td>\n",
       "      <td>0.854980</td>\n",
       "      <td>0.105153</td>\n",
       "    </tr>\n",
       "    <tr>\n",
       "      <th>2</th>\n",
       "      <td>StackedEnsemble_BestOfFamily_AutoML_20190925_142654</td>\n",
       "      <td>1.538965</td>\n",
       "      <td>1.240550</td>\n",
       "      <td>1.538965</td>\n",
       "      <td>0.854288</td>\n",
       "      <td>0.105120</td>\n",
       "    </tr>\n",
       "    <tr>\n",
       "      <th>3</th>\n",
       "      <td>GBM_4_AutoML_20190925_142654</td>\n",
       "      <td>1.575671</td>\n",
       "      <td>1.255257</td>\n",
       "      <td>1.575671</td>\n",
       "      <td>0.858312</td>\n",
       "      <td>0.105254</td>\n",
       "    </tr>\n",
       "    <tr>\n",
       "      <th>4</th>\n",
       "      <td>GBM_3_AutoML_20190925_142654</td>\n",
       "      <td>1.699548</td>\n",
       "      <td>1.303667</td>\n",
       "      <td>1.699548</td>\n",
       "      <td>0.872552</td>\n",
       "      <td>0.107516</td>\n",
       "    </tr>\n",
       "  </tbody>\n",
       "</table>\n",
       "</div>"
      ],
      "text/plain": [
       "                                              model_id  ...     rmsle\n",
       "0     StackedEnsemble_AllModels_AutoML_20190925_142654  ...  0.104091\n",
       "1                         GBM_1_AutoML_20190925_142654  ...  0.105153\n",
       "2  StackedEnsemble_BestOfFamily_AutoML_20190925_142654  ...  0.105120\n",
       "3                         GBM_4_AutoML_20190925_142654  ...  0.105254\n",
       "4                         GBM_3_AutoML_20190925_142654  ...  0.107516\n",
       "\n",
       "[5 rows x 6 columns]"
      ]
     },
     "execution_count": 151,
     "metadata": {
      "tags": []
     },
     "output_type": "execute_result"
    }
   ],
   "source": [
    "leaderboard.head()"
   ]
  },
  {
   "cell_type": "code",
   "execution_count": null,
   "metadata": {
    "colab": {},
    "colab_type": "code",
    "id": "20zTfcJTkbuk"
   },
   "outputs": [],
   "source": [
    "def h2o_not_default_params_df(leaderboard, id_num):\n",
    "    model_id = leaderboard.loc[id_num, 'model_id']\n",
    "    model = h2o.get_model(model_id)\n",
    "    params = model.get_params()\n",
    "    result = []\n",
    "    ignore_params = ['model_id', 'training_frame', 'validation_frame', 'response_column', 'ignored_columns']\n",
    "    for k in params:\n",
    "        if k not in ignore_params and params[k]['default_value'] != params[k]['actual_value']:\n",
    "            result.append({ 'param': k, 'default_value': params[k]['default_value'], \n",
    "                            'actual_value': params[k]['actual_value']})\n",
    "    df_ = pd.DataFrame(result)\n",
    "    cols = ['param', 'default_value', 'actual_value']\n",
    "    return df_[ cols ]"
   ]
  },
  {
   "cell_type": "code",
   "execution_count": 154,
   "metadata": {
    "colab": {
     "base_uri": "https://localhost:8080/",
     "height": 514
    },
    "colab_type": "code",
    "executionInfo": {
     "elapsed": 853,
     "status": "ok",
     "timestamp": 1569422020441,
     "user": {
      "displayName": "MATHEUS XAVIER SAMPAIO UFC",
      "photoUrl": "https://lh3.googleusercontent.com/a-/AAuE7mCD2zlNM6R_yR1-UVbNjeJFzXQYNJRQArbUYmY9=s64",
      "userId": "13506587245414265177"
     },
     "user_tz": 180
    },
    "id": "yxyu03Ipllfu",
    "outputId": "9c4ffa68-668e-4cd8-dc3f-400fd62a3999"
   },
   "outputs": [
    {
     "data": {
      "text/html": [
       "<div>\n",
       "<style scoped>\n",
       "    .dataframe tbody tr th:only-of-type {\n",
       "        vertical-align: middle;\n",
       "    }\n",
       "\n",
       "    .dataframe tbody tr th {\n",
       "        vertical-align: top;\n",
       "    }\n",
       "\n",
       "    .dataframe thead th {\n",
       "        text-align: right;\n",
       "    }\n",
       "</style>\n",
       "<table border=\"1\" class=\"dataframe\">\n",
       "  <thead>\n",
       "    <tr style=\"text-align: right;\">\n",
       "      <th></th>\n",
       "      <th>param</th>\n",
       "      <th>default_value</th>\n",
       "      <th>actual_value</th>\n",
       "    </tr>\n",
       "  </thead>\n",
       "  <tbody>\n",
       "    <tr>\n",
       "      <th>0</th>\n",
       "      <td>nfolds</td>\n",
       "      <td>0</td>\n",
       "      <td>3</td>\n",
       "    </tr>\n",
       "    <tr>\n",
       "      <th>1</th>\n",
       "      <td>keep_cross_validation_models</td>\n",
       "      <td>True</td>\n",
       "      <td>False</td>\n",
       "    </tr>\n",
       "    <tr>\n",
       "      <th>2</th>\n",
       "      <td>keep_cross_validation_predictions</td>\n",
       "      <td>False</td>\n",
       "      <td>True</td>\n",
       "    </tr>\n",
       "    <tr>\n",
       "      <th>3</th>\n",
       "      <td>score_tree_interval</td>\n",
       "      <td>0</td>\n",
       "      <td>5</td>\n",
       "    </tr>\n",
       "    <tr>\n",
       "      <th>4</th>\n",
       "      <td>fold_assignment</td>\n",
       "      <td>AUTO</td>\n",
       "      <td>Modulo</td>\n",
       "    </tr>\n",
       "    <tr>\n",
       "      <th>5</th>\n",
       "      <td>ntrees</td>\n",
       "      <td>50</td>\n",
       "      <td>73</td>\n",
       "    </tr>\n",
       "    <tr>\n",
       "      <th>6</th>\n",
       "      <td>max_depth</td>\n",
       "      <td>5</td>\n",
       "      <td>6</td>\n",
       "    </tr>\n",
       "    <tr>\n",
       "      <th>7</th>\n",
       "      <td>min_rows</td>\n",
       "      <td>10</td>\n",
       "      <td>1</td>\n",
       "    </tr>\n",
       "    <tr>\n",
       "      <th>8</th>\n",
       "      <td>stopping_metric</td>\n",
       "      <td>AUTO</td>\n",
       "      <td>deviance</td>\n",
       "    </tr>\n",
       "    <tr>\n",
       "      <th>9</th>\n",
       "      <td>stopping_tolerance</td>\n",
       "      <td>0.001</td>\n",
       "      <td>0.01</td>\n",
       "    </tr>\n",
       "    <tr>\n",
       "      <th>10</th>\n",
       "      <td>seed</td>\n",
       "      <td>-1</td>\n",
       "      <td>5</td>\n",
       "    </tr>\n",
       "    <tr>\n",
       "      <th>11</th>\n",
       "      <td>distribution</td>\n",
       "      <td>AUTO</td>\n",
       "      <td>gaussian</td>\n",
       "    </tr>\n",
       "    <tr>\n",
       "      <th>12</th>\n",
       "      <td>sample_rate</td>\n",
       "      <td>1</td>\n",
       "      <td>0.8</td>\n",
       "    </tr>\n",
       "    <tr>\n",
       "      <th>13</th>\n",
       "      <td>col_sample_rate</td>\n",
       "      <td>1</td>\n",
       "      <td>0.8</td>\n",
       "    </tr>\n",
       "    <tr>\n",
       "      <th>14</th>\n",
       "      <td>col_sample_rate_per_tree</td>\n",
       "      <td>1</td>\n",
       "      <td>0.8</td>\n",
       "    </tr>\n",
       "  </tbody>\n",
       "</table>\n",
       "</div>"
      ],
      "text/plain": [
       "                                param default_value actual_value\n",
       "0                              nfolds             0            3\n",
       "1        keep_cross_validation_models          True        False\n",
       "2   keep_cross_validation_predictions         False         True\n",
       "3                 score_tree_interval             0            5\n",
       "4                     fold_assignment          AUTO       Modulo\n",
       "5                              ntrees            50           73\n",
       "6                           max_depth             5            6\n",
       "7                            min_rows            10            1\n",
       "8                     stopping_metric          AUTO     deviance\n",
       "9                  stopping_tolerance         0.001         0.01\n",
       "10                               seed            -1            5\n",
       "11                       distribution          AUTO     gaussian\n",
       "12                        sample_rate             1          0.8\n",
       "13                    col_sample_rate             1          0.8\n",
       "14           col_sample_rate_per_tree             1          0.8"
      ]
     },
     "execution_count": 154,
     "metadata": {
      "tags": []
     },
     "output_type": "execute_result"
    }
   ],
   "source": [
    "h2o_not_default_params_df(leaderboard, 1)"
   ]
  },
  {
   "cell_type": "markdown",
   "metadata": {
    "colab": {},
    "colab_type": "code",
    "id": "Z4cqMibcnQpI"
   },
   "source": [
    "Produzido por: Matheus Xavier Sampaio"
   ]
  }
 ],
 "metadata": {
  "colab": {
   "collapsed_sections": [],
   "name": "h2o.ipynb",
   "provenance": []
  },
  "kernelspec": {
   "display_name": "Python 3",
   "language": "python",
   "name": "python3"
  },
  "language_info": {
   "codemirror_mode": {
    "name": "ipython",
    "version": 3
   },
   "file_extension": ".py",
   "mimetype": "text/x-python",
   "name": "python",
   "nbconvert_exporter": "python",
   "pygments_lexer": "ipython3",
   "version": "3.6.7"
  }
 },
 "nbformat": 4,
 "nbformat_minor": 4
}

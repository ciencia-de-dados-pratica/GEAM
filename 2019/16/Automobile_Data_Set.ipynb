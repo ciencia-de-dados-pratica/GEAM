{
 "cells": [
  {
   "cell_type": "markdown",
   "metadata": {},
   "source": [
    "[Video Youtube](https://www.youtube.com/watch?v=Mxs7XDdy68E)"
   ]
  },
  {
   "cell_type": "markdown",
   "metadata": {},
   "source": [
    "### Problema retirado desse site https://archive.ics.uci.edu/ml/datasets/Automobile"
   ]
  },
  {
   "cell_type": "code",
   "execution_count": 2,
   "metadata": {},
   "outputs": [],
   "source": [
    "import pandas as pd\n",
    "from sklearn.model_selection import train_test_split\n",
    "from sklearn.ensemble import RandomForestRegressor\n",
    "from sklearn import metrics"
   ]
  },
  {
   "cell_type": "code",
   "execution_count": 4,
   "metadata": {},
   "outputs": [],
   "source": [
    "colunas = [\"symboling\",\n",
    "           \"normalized-losses\",\n",
    "           \"make\",\n",
    "           \"fuel-type\",\n",
    "           \"aspiration\",\n",
    "           \"num-of-doors\",\n",
    "           \"body-style\",\n",
    "           \"drive-wheels\",\n",
    "           \"engine-location\",\n",
    "           \"wheel-base\",\n",
    "           \"length\",\n",
    "           \"width\",\n",
    "           \"height\",\n",
    "           \"curb-weight\",\n",
    "           \"engine-type\",\n",
    "           \"num-of-cylinders\",\n",
    "           \"engine-size\",\n",
    "           \"fuel-system\",\n",
    "           \"bore\",\n",
    "           \"stroke\",\n",
    "           \"compression-ratio\",\n",
    "           \"horsepower\",\n",
    "           \"peak-rpm\",\n",
    "           \"city-mpg\",\n",
    "           \"highway-mpg\",\n",
    "           \"price\"]"
   ]
  },
  {
   "cell_type": "code",
   "execution_count": 24,
   "metadata": {},
   "outputs": [],
   "source": [
    "data = pd.read_csv('imports-85.data', names=colunas)"
   ]
  },
  {
   "cell_type": "code",
   "execution_count": 30,
   "metadata": {},
   "outputs": [
    {
     "data": {
      "text/html": [
       "<div>\n",
       "<style scoped>\n",
       "    .dataframe tbody tr th:only-of-type {\n",
       "        vertical-align: middle;\n",
       "    }\n",
       "\n",
       "    .dataframe tbody tr th {\n",
       "        vertical-align: top;\n",
       "    }\n",
       "\n",
       "    .dataframe thead th {\n",
       "        text-align: right;\n",
       "    }\n",
       "</style>\n",
       "<table border=\"1\" class=\"dataframe\">\n",
       "  <thead>\n",
       "    <tr style=\"text-align: right;\">\n",
       "      <th></th>\n",
       "      <th>symboling</th>\n",
       "      <th>normalized-losses</th>\n",
       "      <th>wheel-base</th>\n",
       "      <th>length</th>\n",
       "      <th>width</th>\n",
       "      <th>height</th>\n",
       "      <th>curb-weight</th>\n",
       "      <th>engine-size</th>\n",
       "      <th>bore</th>\n",
       "      <th>stroke</th>\n",
       "      <th>...</th>\n",
       "      <th>engine-type_ohcv</th>\n",
       "      <th>num-of-cylinders_five</th>\n",
       "      <th>num-of-cylinders_four</th>\n",
       "      <th>num-of-cylinders_six</th>\n",
       "      <th>num-of-cylinders_three</th>\n",
       "      <th>fuel-system_2bbl</th>\n",
       "      <th>fuel-system_idi</th>\n",
       "      <th>fuel-system_mfi</th>\n",
       "      <th>fuel-system_mpfi</th>\n",
       "      <th>fuel-system_spdi</th>\n",
       "    </tr>\n",
       "  </thead>\n",
       "  <tbody>\n",
       "    <tr>\n",
       "      <th>3</th>\n",
       "      <td>2</td>\n",
       "      <td>164.0</td>\n",
       "      <td>99.8</td>\n",
       "      <td>176.6</td>\n",
       "      <td>66.2</td>\n",
       "      <td>54.3</td>\n",
       "      <td>2337</td>\n",
       "      <td>109</td>\n",
       "      <td>3.19</td>\n",
       "      <td>3.4</td>\n",
       "      <td>...</td>\n",
       "      <td>0</td>\n",
       "      <td>0</td>\n",
       "      <td>1</td>\n",
       "      <td>0</td>\n",
       "      <td>0</td>\n",
       "      <td>0</td>\n",
       "      <td>0</td>\n",
       "      <td>0</td>\n",
       "      <td>1</td>\n",
       "      <td>0</td>\n",
       "    </tr>\n",
       "    <tr>\n",
       "      <th>4</th>\n",
       "      <td>2</td>\n",
       "      <td>164.0</td>\n",
       "      <td>99.4</td>\n",
       "      <td>176.6</td>\n",
       "      <td>66.4</td>\n",
       "      <td>54.3</td>\n",
       "      <td>2824</td>\n",
       "      <td>136</td>\n",
       "      <td>3.19</td>\n",
       "      <td>3.4</td>\n",
       "      <td>...</td>\n",
       "      <td>0</td>\n",
       "      <td>1</td>\n",
       "      <td>0</td>\n",
       "      <td>0</td>\n",
       "      <td>0</td>\n",
       "      <td>0</td>\n",
       "      <td>0</td>\n",
       "      <td>0</td>\n",
       "      <td>1</td>\n",
       "      <td>0</td>\n",
       "    </tr>\n",
       "    <tr>\n",
       "      <th>6</th>\n",
       "      <td>1</td>\n",
       "      <td>158.0</td>\n",
       "      <td>105.8</td>\n",
       "      <td>192.7</td>\n",
       "      <td>71.4</td>\n",
       "      <td>55.7</td>\n",
       "      <td>2844</td>\n",
       "      <td>136</td>\n",
       "      <td>3.19</td>\n",
       "      <td>3.4</td>\n",
       "      <td>...</td>\n",
       "      <td>0</td>\n",
       "      <td>1</td>\n",
       "      <td>0</td>\n",
       "      <td>0</td>\n",
       "      <td>0</td>\n",
       "      <td>0</td>\n",
       "      <td>0</td>\n",
       "      <td>0</td>\n",
       "      <td>1</td>\n",
       "      <td>0</td>\n",
       "    </tr>\n",
       "    <tr>\n",
       "      <th>8</th>\n",
       "      <td>1</td>\n",
       "      <td>158.0</td>\n",
       "      <td>105.8</td>\n",
       "      <td>192.7</td>\n",
       "      <td>71.4</td>\n",
       "      <td>55.9</td>\n",
       "      <td>3086</td>\n",
       "      <td>131</td>\n",
       "      <td>3.13</td>\n",
       "      <td>3.4</td>\n",
       "      <td>...</td>\n",
       "      <td>0</td>\n",
       "      <td>1</td>\n",
       "      <td>0</td>\n",
       "      <td>0</td>\n",
       "      <td>0</td>\n",
       "      <td>0</td>\n",
       "      <td>0</td>\n",
       "      <td>0</td>\n",
       "      <td>1</td>\n",
       "      <td>0</td>\n",
       "    </tr>\n",
       "    <tr>\n",
       "      <th>10</th>\n",
       "      <td>2</td>\n",
       "      <td>192.0</td>\n",
       "      <td>101.2</td>\n",
       "      <td>176.8</td>\n",
       "      <td>64.8</td>\n",
       "      <td>54.3</td>\n",
       "      <td>2395</td>\n",
       "      <td>108</td>\n",
       "      <td>3.50</td>\n",
       "      <td>2.8</td>\n",
       "      <td>...</td>\n",
       "      <td>0</td>\n",
       "      <td>0</td>\n",
       "      <td>1</td>\n",
       "      <td>0</td>\n",
       "      <td>0</td>\n",
       "      <td>0</td>\n",
       "      <td>0</td>\n",
       "      <td>0</td>\n",
       "      <td>1</td>\n",
       "      <td>0</td>\n",
       "    </tr>\n",
       "  </tbody>\n",
       "</table>\n",
       "<p>5 rows × 55 columns</p>\n",
       "</div>"
      ],
      "text/plain": [
       "    symboling  normalized-losses  wheel-base  length  width  height  \\\n",
       "3           2              164.0        99.8   176.6   66.2    54.3   \n",
       "4           2              164.0        99.4   176.6   66.4    54.3   \n",
       "6           1              158.0       105.8   192.7   71.4    55.7   \n",
       "8           1              158.0       105.8   192.7   71.4    55.9   \n",
       "10          2              192.0       101.2   176.8   64.8    54.3   \n",
       "\n",
       "    curb-weight  engine-size  bore  stroke        ...         \\\n",
       "3          2337          109  3.19     3.4        ...          \n",
       "4          2824          136  3.19     3.4        ...          \n",
       "6          2844          136  3.19     3.4        ...          \n",
       "8          3086          131  3.13     3.4        ...          \n",
       "10         2395          108  3.50     2.8        ...          \n",
       "\n",
       "    engine-type_ohcv  num-of-cylinders_five  num-of-cylinders_four  \\\n",
       "3                  0                      0                      1   \n",
       "4                  0                      1                      0   \n",
       "6                  0                      1                      0   \n",
       "8                  0                      1                      0   \n",
       "10                 0                      0                      1   \n",
       "\n",
       "    num-of-cylinders_six  num-of-cylinders_three  fuel-system_2bbl  \\\n",
       "3                      0                       0                 0   \n",
       "4                      0                       0                 0   \n",
       "6                      0                       0                 0   \n",
       "8                      0                       0                 0   \n",
       "10                     0                       0                 0   \n",
       "\n",
       "    fuel-system_idi  fuel-system_mfi  fuel-system_mpfi  fuel-system_spdi  \n",
       "3                 0                0                 1                 0  \n",
       "4                 0                0                 1                 0  \n",
       "6                 0                0                 1                 0  \n",
       "8                 0                0                 1                 0  \n",
       "10                0                0                 1                 0  \n",
       "\n",
       "[5 rows x 55 columns]"
      ]
     },
     "execution_count": 30,
     "metadata": {},
     "output_type": "execute_result"
    }
   ],
   "source": [
    "data.head()"
   ]
  },
  {
   "cell_type": "code",
   "execution_count": 31,
   "metadata": {},
   "outputs": [
    {
     "data": {
      "text/plain": [
       "symboling                 0\n",
       "normalized-losses         0\n",
       "wheel-base                0\n",
       "length                    0\n",
       "width                     0\n",
       "height                    0\n",
       "curb-weight               0\n",
       "engine-size               0\n",
       "bore                      0\n",
       "stroke                    0\n",
       "compression-ratio         0\n",
       "horsepower                0\n",
       "peak-rpm                  0\n",
       "city-mpg                  0\n",
       "highway-mpg               0\n",
       "price                     0\n",
       "make_bmw                  0\n",
       "make_chevrolet            0\n",
       "make_dodge                0\n",
       "make_honda                0\n",
       "make_jaguar               0\n",
       "make_mazda                0\n",
       "make_mercedes-benz        0\n",
       "make_mitsubishi           0\n",
       "make_nissan               0\n",
       "make_peugot               0\n",
       "make_plymouth             0\n",
       "make_porsche              0\n",
       "make_saab                 0\n",
       "make_subaru               0\n",
       "make_toyota               0\n",
       "make_volkswagen           0\n",
       "make_volvo                0\n",
       "fuel-type_gas             0\n",
       "aspiration_turbo          0\n",
       "num-of-doors_two          0\n",
       "body-style_hardtop        0\n",
       "body-style_hatchback      0\n",
       "body-style_sedan          0\n",
       "body-style_wagon          0\n",
       "drive-wheels_fwd          0\n",
       "drive-wheels_rwd          0\n",
       "engine-type_l             0\n",
       "engine-type_ohc           0\n",
       "engine-type_ohcf          0\n",
       "engine-type_ohcv          0\n",
       "num-of-cylinders_five     0\n",
       "num-of-cylinders_four     0\n",
       "num-of-cylinders_six      0\n",
       "num-of-cylinders_three    0\n",
       "fuel-system_2bbl          0\n",
       "fuel-system_idi           0\n",
       "fuel-system_mfi           0\n",
       "fuel-system_mpfi          0\n",
       "fuel-system_spdi          0\n",
       "dtype: int64"
      ]
     },
     "execution_count": 31,
     "metadata": {},
     "output_type": "execute_result"
    }
   ],
   "source": [
    "data.isnull().sum()"
   ]
  },
  {
   "cell_type": "code",
   "execution_count": 27,
   "metadata": {},
   "outputs": [],
   "source": [
    "data = data.dropna(axis=0)"
   ]
  },
  {
   "cell_type": "code",
   "execution_count": 29,
   "metadata": {},
   "outputs": [],
   "source": [
    "data = pd.get_dummies(data, drop_first=True)"
   ]
  },
  {
   "cell_type": "code",
   "execution_count": 32,
   "metadata": {},
   "outputs": [],
   "source": [
    "y = data[\"price\"]\n",
    "X = data.drop(\"price\", axis=1).values"
   ]
  },
  {
   "cell_type": "code",
   "execution_count": 33,
   "metadata": {},
   "outputs": [],
   "source": [
    "X_train, X_test, y_train, y_test = train_test_split(X, y, test_size=0.2)"
   ]
  },
  {
   "cell_type": "code",
   "execution_count": 51,
   "metadata": {},
   "outputs": [],
   "source": [
    "RF = RandomForestRegressor(random_state=0, n_estimators=10)\n",
    "RF.fit(X_train, y_train)\n",
    "y_pred = RF.predict(X_test)"
   ]
  },
  {
   "cell_type": "code",
   "execution_count": 52,
   "metadata": {},
   "outputs": [
    {
     "data": {
      "text/plain": [
       "0.9143451635362699"
      ]
     },
     "execution_count": 52,
     "metadata": {},
     "output_type": "execute_result"
    }
   ],
   "source": [
    "metrics.r2_score(y_test, y_pred)"
   ]
  },
  {
   "cell_type": "code",
   "execution_count": 53,
   "metadata": {},
   "outputs": [
    {
     "data": {
      "text/plain": [
       "3206273.520295139"
      ]
     },
     "execution_count": 53,
     "metadata": {},
     "output_type": "execute_result"
    }
   ],
   "source": [
    "metrics.mean_squared_error(y_test, y_pred)"
   ]
  },
  {
   "cell_type": "code",
   "execution_count": 54,
   "metadata": {},
   "outputs": [
    {
     "data": {
      "text/plain": [
       "1094.6854166666667"
      ]
     },
     "execution_count": 54,
     "metadata": {},
     "output_type": "execute_result"
    }
   ],
   "source": [
    "metrics.mean_absolute_error(y_test, y_pred)"
   ]
  }
 ],
 "metadata": {
  "kernelspec": {
   "display_name": "Python 3",
   "language": "python",
   "name": "python3"
  },
  "language_info": {
   "codemirror_mode": {
    "name": "ipython",
    "version": 3
   },
   "file_extension": ".py",
   "mimetype": "text/x-python",
   "name": "python",
   "nbconvert_exporter": "python",
   "pygments_lexer": "ipython3",
   "version": "3.6.7"
  }
 },
 "nbformat": 4,
 "nbformat_minor": 4
}
